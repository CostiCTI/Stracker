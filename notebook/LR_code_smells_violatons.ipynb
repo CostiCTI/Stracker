{
 "cells": [
  {
   "cell_type": "code",
   "execution_count": 1,
   "metadata": {},
   "outputs": [
    {
     "name": "stderr",
     "output_type": "stream",
     "text": [
      "c:\\users\\costi\\appdata\\local\\programs\\python\\python35\\lib\\site-packages\\sklearn\\cross_validation.py:41: DeprecationWarning: This module was deprecated in version 0.18 in favor of the model_selection module into which all the refactored classes and functions are moved. Also note that the interface of the new CV iterators are different from that of this module. This module will be removed in 0.20.\n",
      "  \"This module will be removed in 0.20.\", DeprecationWarning)\n"
     ]
    }
   ],
   "source": [
    "# Import libraries that we need\n",
    "\n",
    "import numpy as np \n",
    "import pandas as pd\n",
    "import json\n",
    "import seaborn as sns\n",
    "import matplotlib.pyplot as plt\n",
    "import pickle\n",
    "\n",
    "\n",
    "from pprint import pprint\n",
    "\n",
    "from sklearn.cross_validation import train_test_split\n",
    "from sklearn import linear_model\n",
    "from sklearn.metrics import accuracy_score\n",
    "from sklearn.preprocessing import normalize\n",
    "from sklearn.utils import shuffle"
   ]
  },
  {
   "cell_type": "code",
   "execution_count": 2,
   "metadata": {},
   "outputs": [
    {
     "name": "stdout",
     "output_type": "stream",
     "text": [
      "18\n"
     ]
    }
   ],
   "source": [
    "with open(\"p1.json\") as file:\n",
    "    data = json.load(file)\n",
    "    \n",
    "print (len(data))"
   ]
  },
  {
   "cell_type": "code",
   "execution_count": 3,
   "metadata": {},
   "outputs": [
    {
     "name": "stdout",
     "output_type": "stream",
     "text": [
      "[12.0, 414.0, 74.0, 193.0, 84.0, 83.0, 170.0, 2433.0, 58.0, 326.0, 459.0, 355.0, 38.0, 6.0, 31.0, 147.0, 4074.0, 290.0]\n"
     ]
    }
   ],
   "source": [
    "minv = [float(x['code_smells']) for x in data]\n",
    "print (minv)"
   ]
  },
  {
   "cell_type": "code",
   "execution_count": 4,
   "metadata": {},
   "outputs": [
    {
     "name": "stdout",
     "output_type": "stream",
     "text": [
      "[14.0, 689.0, 90.0, 235.0, 157.0, 83.0, 170.0, 2433.0, 60.0, 335.0, 461.0, 355.0, 55.0, 8.0, 31.0, 147.0, 4088.0, 291.0]\n"
     ]
    }
   ],
   "source": [
    "majv = [float(x['violations']) for x in data]\n",
    "print (majv)"
   ]
  },
  {
   "cell_type": "code",
   "execution_count": 5,
   "metadata": {},
   "outputs": [],
   "source": [
    "for i in range(len(minv) - 1):\n",
    "    for j in range(i+1, len(minv)):\n",
    "        if minv[i] > minv[j]:\n",
    "            minv[i], minv[j] = minv[j], minv[i]\n",
    "            majv[i], majv[j] = majv[j], majv[i]"
   ]
  },
  {
   "cell_type": "code",
   "execution_count": 6,
   "metadata": {},
   "outputs": [
    {
     "name": "stdout",
     "output_type": "stream",
     "text": [
      "[6.0, 12.0, 31.0, 38.0, 58.0, 74.0, 83.0, 84.0, 147.0, 170.0, 193.0, 290.0, 326.0, 355.0, 414.0, 459.0, 2433.0, 4074.0]\n",
      "[8.0, 14.0, 31.0, 55.0, 60.0, 90.0, 83.0, 157.0, 147.0, 170.0, 235.0, 291.0, 335.0, 355.0, 689.0, 461.0, 2433.0, 4088.0]\n"
     ]
    }
   ],
   "source": [
    "print (minv)\n",
    "print (majv)"
   ]
  },
  {
   "cell_type": "code",
   "execution_count": 7,
   "metadata": {},
   "outputs": [
    {
     "name": "stdout",
     "output_type": "stream",
     "text": [
      "[6.0, 12.0, 31.0, 38.0, 58.0, 74.0, 83.0, 84.0, 147.0, 170.0, 193.0, 290.0, 326.0, 355.0, 459.0, 2433.0, 4074.0]\n",
      "[8.0, 14.0, 31.0, 55.0, 60.0, 90.0, 83.0, 157.0, 147.0, 170.0, 235.0, 291.0, 335.0, 355.0, 461.0, 2433.0, 4088.0]\n"
     ]
    }
   ],
   "source": [
    "del minv[14]\n",
    "del majv[14]\n",
    "print (minv)\n",
    "print (majv)"
   ]
  },
  {
   "cell_type": "code",
   "execution_count": 8,
   "metadata": {},
   "outputs": [
    {
     "data": {
      "image/png": "[encoded data removed]",
      "text/plain": [
       "<matplotlib.figure.Figure at 0x1e4356fc6a0>"
      ]
     },
     "metadata": {},
     "output_type": "display_data"
    }
   ],
   "source": [
    "x = np.array(minv)\n",
    "y = np.array(majv)\n",
    "\n",
    "plt.scatter(x, y)\n",
    "plt.xlabel(\"min\")\n",
    "plt.ylabel(\"maj\")\n",
    "plt.show()"
   ]
  },
  {
   "cell_type": "code",
   "execution_count": 9,
   "metadata": {},
   "outputs": [],
   "source": [
    "from sklearn.cross_validation import train_test_split\n",
    "from sklearn import metrics\n",
    "\n",
    "datax_train, datax_test, datay_train, datay_test = train_test_split(x, y, test_size=0.25, random_state=3)\n",
    "linear_reg = linear_model.LinearRegression()\n",
    "\n",
    "datax_train = np.atleast_2d(datax_train).T\n",
    "datay_train = np.atleast_2d(datay_train).T\n",
    "datax_test = np.atleast_2d(datax_test).T\n",
    "datay_test = np.atleast_2d(datay_test).T\n",
    "\n",
    "linear_reg.fit(datax_train, datay_train)\n",
    "\n",
    "predict = linear_reg.predict(datax_test)"
   ]
  },
  {
   "cell_type": "code",
   "execution_count": 10,
   "metadata": {},
   "outputs": [
    {
     "name": "stdout",
     "output_type": "stream",
     "text": [
      "r2_score: 0.9996166227529822\n"
     ]
    }
   ],
   "source": [
    "from sklearn.metrics import r2_score\n",
    "\n",
    "print ('r2_score:', r2_score(datay_test, predict))"
   ]
  },
  {
   "cell_type": "code",
   "execution_count": 11,
   "metadata": {},
   "outputs": [
    {
     "data": {
      "image/png": "[encoded data removed]",
      "text/plain": [
       "<matplotlib.figure.Figure at 0x1e4356fc2b0>"
      ]
     },
     "metadata": {},
     "output_type": "display_data"
    }
   ],
   "source": [
    "plt.scatter(datax_test, datay_test,  color='black')\n",
    "plt.plot(datax_test, predict, color='blue', linewidth=3)\n",
    "\n",
    "\n",
    "plt.show()"
   ]
  },
  {
   "cell_type": "code",
   "execution_count": 12,
   "metadata": {},
   "outputs": [
    {
     "name": "stdout",
     "output_type": "stream",
     "text": [
      "[[9974.1728906]]\n"
     ]
    }
   ],
   "source": [
    "print (linear_reg.predict(10000))"
   ]
  },
  {
   "cell_type": "code",
   "execution_count": 13,
   "metadata": {},
   "outputs": [],
   "source": [
    "def save_model(m, file_name):\n",
    "    # Save the model\n",
    "    filename = file_name + '.sav'\n",
    "    pickle.dump(m, open(filename, 'wb'))"
   ]
  },
  {
   "cell_type": "code",
   "execution_count": 14,
   "metadata": {},
   "outputs": [],
   "source": [
    "def load_model(file_name): \n",
    "    # load the model\n",
    "    filename = file_name + '.sav'\n",
    "    loaded_model = pickle.load(open(filename, 'rb'))\n",
    "    \n",
    "    return loaded_model"
   ]
  },
  {
   "cell_type": "code",
   "execution_count": 15,
   "metadata": {},
   "outputs": [],
   "source": [
    "# Save the model\n",
    "save_model(linear_reg, 'models/model_lr_code_smells_violations')"
   ]
  },
  {
   "cell_type": "code",
   "execution_count": 16,
   "metadata": {},
   "outputs": [],
   "source": [
    "model = load_model('models/model_lr_code_smells_violations')"
   ]
  },
  {
   "cell_type": "code",
   "execution_count": 17,
   "metadata": {},
   "outputs": [
    {
     "name": "stdout",
     "output_type": "stream",
     "text": [
      "[[108.24112952]]\n"
     ]
    }
   ],
   "source": [
    "print (linear_reg.predict(100))"
   ]
  },
  {
   "cell_type": "code",
   "execution_count": null,
   "metadata": {},
   "outputs": [],
   "source": []
  }
 ],
 "metadata": {
  "kernelspec": {
   "display_name": "Python 3",
   "language": "python",
   "name": "python3"
  },
  "language_info": {
   "codemirror_mode": {
    "name": "ipython",
    "version": 3
   },
   "file_extension": ".py",
   "mimetype": "text/x-python",
   "name": "python",
   "nbconvert_exporter": "python",
   "pygments_lexer": "ipython3",
   "version": "3.5.4"
  }
 },
 "nbformat": 4,
 "nbformat_minor": 2
}
