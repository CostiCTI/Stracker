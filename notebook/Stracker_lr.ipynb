{
 "cells": [
  {
   "cell_type": "code",
   "execution_count": 119,
   "metadata": {},
   "outputs": [],
   "source": [
    "# Import libraries that we need\n",
    "\n",
    "import numpy as np \n",
    "import pandas as pd\n",
    "import json\n",
    "import seaborn as sns\n",
    "import matplotlib.pyplot as plt\n",
    "\n",
    "\n",
    "from pprint import pprint\n",
    "\n",
    "from sklearn.cross_validation import train_test_split\n",
    "from sklearn import linear_model\n",
    "from sklearn.metrics import accuracy_score\n",
    "from sklearn.preprocessing import normalize\n",
    "from sklearn.utils import shuffle"
   ]
  },
  {
   "cell_type": "code",
   "execution_count": 120,
   "metadata": {},
   "outputs": [
    {
     "name": "stdout",
     "output_type": "stream",
     "text": [
      "21\n"
     ]
    }
   ],
   "source": [
    "with open(\"p1.json\") as file:\n",
    "    data = json.load(file)\n",
    "    \n",
    "print (len(data))"
   ]
  },
  {
   "cell_type": "code",
   "execution_count": 144,
   "metadata": {},
   "outputs": [],
   "source": [
    "# violations - minor_violations > 0.9 r2 ok\n",
    "# ncloc      - functions > 0.9 r1 (drop 108k)\n",
    "# code_smells      - violations > 0.9 r3 (drop 414, 189)\n",
    "# ncloc - files > 0.85 r15\n",
    "# ncloc - complexity > 0.85 r1\n",
    "# lines - ncloc > 0.9 r3\n",
    "\n",
    "\n",
    "feature1 = \"classes\"\n",
    "feature2 = \"functions\""
   ]
  },
  {
   "cell_type": "code",
   "execution_count": 145,
   "metadata": {},
   "outputs": [
    {
     "name": "stdout",
     "output_type": "stream",
     "text": [
      "[3.0, 1334.0, 172.0, 748.0, 79.0, 7.0, 20.0, 89.0, 16.0, 47.0, 202.0, 14.0, 149.0, 4.0, 3.0, 56.0, 558.0, 1.0, 1839.0, 2.0, 43.0]\n"
     ]
    }
   ],
   "source": [
    "minv = [float(x[feature1]) for x in data]\n",
    "print (minv)"
   ]
  },
  {
   "cell_type": "code",
   "execution_count": 146,
   "metadata": {},
   "outputs": [
    {
     "name": "stdout",
     "output_type": "stream",
     "text": [
      "[16.0, 2697.0, 759.0, 2917.0, 609.0, 36.0, 312.0, 962.0, 116.0, 626.0, 2472.0, 212.0, 1298.0, 46.0, 41.0, 489.0, 5947.0, 100.0, 5540.0, 21.0, 261.0]\n"
     ]
    }
   ],
   "source": [
    "majv = [float(x[feature2]) for x in data]\n",
    "print (majv)"
   ]
  },
  {
   "cell_type": "code",
   "execution_count": null,
   "metadata": {},
   "outputs": [],
   "source": []
  },
  {
   "cell_type": "code",
   "execution_count": 147,
   "metadata": {},
   "outputs": [],
   "source": [
    "for i in range(len(minv) - 1):\n",
    "    for j in range(i+1, len(minv)):\n",
    "        if minv[i] > minv[j]:\n",
    "            minv[i], minv[j] = minv[j], minv[i]\n",
    "            majv[i], majv[j] = majv[j], majv[i]"
   ]
  },
  {
   "cell_type": "code",
   "execution_count": 148,
   "metadata": {},
   "outputs": [
    {
     "name": "stdout",
     "output_type": "stream",
     "text": [
      "[1.0, 2.0, 3.0, 3.0, 4.0, 7.0, 14.0, 16.0, 20.0, 43.0, 47.0, 56.0, 79.0, 89.0, 149.0, 172.0, 202.0, 558.0, 748.0, 1334.0, 1839.0]\n",
      "[100.0, 21.0, 16.0, 41.0, 46.0, 36.0, 212.0, 116.0, 312.0, 261.0, 626.0, 489.0, 609.0, 962.0, 1298.0, 759.0, 2472.0, 5947.0, 2917.0, 2697.0, 5540.0]\n"
     ]
    }
   ],
   "source": [
    "#del minv[len(minv) - 3]\n",
    "#del majv[len(majv) - 3]\n",
    "\n",
    "#del minv[len(minv) - 4]\n",
    "#del majv[len(majv) - 4]\n",
    "\n",
    "print (minv)\n",
    "print (majv)"
   ]
  },
  {
   "cell_type": "code",
   "execution_count": 149,
   "metadata": {},
   "outputs": [
    {
     "data": {
      "image/png": "[encoded data removed]",
      "text/plain": [
       "<matplotlib.figure.Figure at 0x17ea5d70da0>"
      ]
     },
     "metadata": {},
     "output_type": "display_data"
    }
   ],
   "source": [
    "x = np.array(minv)\n",
    "y = np.array(majv)\n",
    "\n",
    "plt.scatter(x, y)\n",
    "plt.xlabel(\"min\")\n",
    "plt.ylabel(\"maj\")\n",
    "plt.show()"
   ]
  },
  {
   "cell_type": "code",
   "execution_count": 150,
   "metadata": {},
   "outputs": [],
   "source": [
    "from sklearn.cross_validation import train_test_split\n",
    "from sklearn import metrics\n",
    "\n",
    "datax_train, datax_test, datay_train, datay_test = train_test_split(x, y, test_size=0.33, random_state=1)\n",
    "linear_reg = linear_model.LinearRegression()\n",
    "\n",
    "datax_train = np.atleast_2d(datax_train).T\n",
    "datay_train = np.atleast_2d(datay_train).T\n",
    "datax_test = np.atleast_2d(datax_test).T\n",
    "datay_test = np.atleast_2d(datay_test).T\n",
    "\n",
    "linear_reg.fit(datax_train, datay_train)\n",
    "\n",
    "predict = linear_reg.predict(datax_test)"
   ]
  },
  {
   "cell_type": "code",
   "execution_count": 151,
   "metadata": {},
   "outputs": [
    {
     "name": "stdout",
     "output_type": "stream",
     "text": [
      "r2_score: 0.042494280581601096\n",
      "score: -87.66342869990376\n",
      "Coefficient: \n",
      " [[2.58187138]]\n",
      "Intercept: \n",
      " [168.74122016]\n"
     ]
    }
   ],
   "source": [
    "from sklearn.metrics import r2_score\n",
    "\n",
    "print ('r2_score:', r2_score(datay_test, predict))\n",
    "\n",
    "print ('score:', linear_reg.score(datay_test, predict))\n",
    "\n",
    "print('Coefficient: \\n', linear_reg.coef_)\n",
    "print('Intercept: \\n', linear_reg.intercept_)"
   ]
  },
  {
   "cell_type": "code",
   "execution_count": 152,
   "metadata": {},
   "outputs": [
    {
     "data": {
      "image/png": "[encoded data removed]",
      "text/plain": [
       "<matplotlib.figure.Figure at 0x17ea5d1e128>"
      ]
     },
     "metadata": {},
     "output_type": "display_data"
    }
   ],
   "source": [
    "plt.scatter(datax_test, datay_test,  color='black')\n",
    "plt.plot(datax_test, predict, color='blue', linewidth=3)\n",
    "\n",
    "\n",
    "plt.show()"
   ]
  },
  {
   "cell_type": "code",
   "execution_count": 153,
   "metadata": {},
   "outputs": [
    {
     "data": {
      "image/png": "[encoded data removed]",
      "text/plain": [
       "<matplotlib.figure.Figure at 0x17ea6e99d30>"
      ]
     },
     "metadata": {},
     "output_type": "display_data"
    }
   ],
   "source": [
    "plt.scatter(datax_train, datay_train,  color='black')\n",
    "\n",
    "\n",
    "plt.show()"
   ]
  },
  {
   "cell_type": "code",
   "execution_count": 156,
   "metadata": {},
   "outputs": [
    {
     "name": "stdout",
     "output_type": "stream",
     "text": [
      "[[171.32309153]]\n"
     ]
    }
   ],
   "source": [
    "print (linear_reg.predict(1))"
   ]
  },
  {
   "cell_type": "code",
   "execution_count": null,
   "metadata": {},
   "outputs": [],
   "source": []
  }
 ],
 "metadata": {
  "kernelspec": {
   "display_name": "Python 3",
   "language": "python",
   "name": "python3"
  },
  "language_info": {
   "codemirror_mode": {
    "name": "ipython",
    "version": 3
   },
   "file_extension": ".py",
   "mimetype": "text/x-python",
   "name": "python",
   "nbconvert_exporter": "python",
   "pygments_lexer": "ipython3",
   "version": "3.5.4"
  }
 },
 "nbformat": 4,
 "nbformat_minor": 2
}
