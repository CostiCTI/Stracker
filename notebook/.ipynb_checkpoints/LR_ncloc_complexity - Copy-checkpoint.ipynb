{
 "cells": [
  {
   "cell_type": "code",
   "execution_count": 1,
   "metadata": {},
   "outputs": [
    {
     "name": "stderr",
     "output_type": "stream",
     "text": [
      "c:\\users\\costi\\appdata\\local\\programs\\python\\python35\\lib\\site-packages\\sklearn\\cross_validation.py:41: DeprecationWarning: This module was deprecated in version 0.18 in favor of the model_selection module into which all the refactored classes and functions are moved. Also note that the interface of the new CV iterators are different from that of this module. This module will be removed in 0.20.\n",
      "  \"This module will be removed in 0.20.\", DeprecationWarning)\n"
     ]
    }
   ],
   "source": [
    "# Import libraries that we need\n",
    "\n",
    "import numpy as np \n",
    "import pandas as pd\n",
    "import json\n",
    "import seaborn as sns\n",
    "import matplotlib.pyplot as plt\n",
    "import pickle\n",
    "\n",
    "\n",
    "from pprint import pprint\n",
    "\n",
    "from sklearn.cross_validation import train_test_split\n",
    "from sklearn import linear_model\n",
    "from sklearn.metrics import accuracy_score\n",
    "from sklearn.preprocessing import normalize\n",
    "from sklearn.utils import shuffle"
   ]
  },
  {
   "cell_type": "code",
   "execution_count": 2,
   "metadata": {},
   "outputs": [
    {
     "name": "stdout",
     "output_type": "stream",
     "text": [
      "18\n"
     ]
    }
   ],
   "source": [
    "with open(\"p1.json\") as file:\n",
    "    data = json.load(file)\n",
    "    \n",
    "print (len(data))"
   ]
  },
  {
   "cell_type": "code",
   "execution_count": 22,
   "metadata": {},
   "outputs": [
    {
     "name": "stdout",
     "output_type": "stream",
     "text": [
      "[350.0, 128437.0, 16309.0, 36520.0, 9756.0, 1024.0, 10459.0, 25626.0, 1952.0, 13497.0, 67404.0, 2986.0, 16192.0, 910.0, 1302.0, 14219.0, 181552.0, 1364.0]\n"
     ]
    }
   ],
   "source": [
    "minv = [float(x['lines']) for x in data]\n",
    "print (minv)"
   ]
  },
  {
   "cell_type": "code",
   "execution_count": 23,
   "metadata": {},
   "outputs": [
    {
     "name": "stdout",
     "output_type": "stream",
     "text": [
      "[36.0, 11521.0, 1577.0, 4724.0, 1134.0, 77.0, 856.0, 2326.0, 234.0, 2026.0, 7254.0, 536.0, 1919.0, 141.0, 144.0, 1499.0, 14336.0, 148.0]\n"
     ]
    }
   ],
   "source": [
    "majv = [float(x['complexity']) for x in data]\n",
    "print (majv)"
   ]
  },
  {
   "cell_type": "code",
   "execution_count": 24,
   "metadata": {},
   "outputs": [],
   "source": [
    "for i in range(len(minv) - 1):\n",
    "    for j in range(i+1, len(minv)):\n",
    "        if minv[i] > minv[j]:\n",
    "            minv[i], minv[j] = minv[j], minv[i]\n",
    "            majv[i], majv[j] = majv[j], majv[i]"
   ]
  },
  {
   "cell_type": "code",
   "execution_count": 25,
   "metadata": {},
   "outputs": [
    {
     "name": "stdout",
     "output_type": "stream",
     "text": [
      "[350.0, 910.0, 1024.0, 1302.0, 1364.0, 1952.0, 2986.0, 9756.0, 10459.0, 13497.0, 14219.0, 16192.0, 16309.0, 25626.0, 36520.0, 67404.0, 128437.0, 181552.0]\n",
      "[36.0, 141.0, 77.0, 144.0, 148.0, 234.0, 536.0, 1134.0, 856.0, 2026.0, 1499.0, 1919.0, 1577.0, 2326.0, 4724.0, 7254.0, 11521.0, 14336.0]\n"
     ]
    }
   ],
   "source": [
    "print (minv)\n",
    "print (majv)"
   ]
  },
  {
   "cell_type": "code",
   "execution_count": 26,
   "metadata": {},
   "outputs": [
    {
     "data": {
      "image/png": "[encoded data removed]",
      "text/plain": [
       "<matplotlib.figure.Figure at 0x22ea5101e10>"
      ]
     },
     "metadata": {},
     "output_type": "display_data"
    }
   ],
   "source": [
    "x = np.array(minv)\n",
    "y = np.array(majv)\n",
    "\n",
    "plt.scatter(x, y)\n",
    "plt.xlabel(\"min\")\n",
    "plt.ylabel(\"maj\")\n",
    "plt.show()"
   ]
  },
  {
   "cell_type": "code",
   "execution_count": 27,
   "metadata": {},
   "outputs": [],
   "source": [
    "from sklearn.cross_validation import train_test_split\n",
    "from sklearn import metrics\n",
    "\n",
    "datax_train, datax_test, datay_train, datay_test = train_test_split(x, y, test_size=0.25, random_state=1)\n",
    "linear_reg = linear_model.LinearRegression()\n",
    "\n",
    "datax_train = np.atleast_2d(datax_train).T\n",
    "datay_train = np.atleast_2d(datay_train).T\n",
    "datax_test = np.atleast_2d(datax_test).T\n",
    "datay_test = np.atleast_2d(datay_test).T\n",
    "\n",
    "linear_reg.fit(datax_train, datay_train)\n",
    "\n",
    "predict = linear_reg.predict(datax_test)"
   ]
  },
  {
   "cell_type": "code",
   "execution_count": 28,
   "metadata": {},
   "outputs": [
    {
     "name": "stdout",
     "output_type": "stream",
     "text": [
      "r2_score: 0.866309275206121\n"
     ]
    }
   ],
   "source": [
    "from sklearn.metrics import r2_score\n",
    "\n",
    "print ('r2_score:', r2_score(datay_test, predict))"
   ]
  },
  {
   "cell_type": "code",
   "execution_count": 29,
   "metadata": {},
   "outputs": [
    {
     "data": {
      "image/png": "[encoded data removed]",
      "text/plain": [
       "<matplotlib.figure.Figure at 0x22ea5185ac8>"
      ]
     },
     "metadata": {},
     "output_type": "display_data"
    }
   ],
   "source": [
    "plt.scatter(datax_test, datay_test,  color='black')\n",
    "plt.plot(datax_test, predict, color='blue', linewidth=3)\n",
    "\n",
    "\n",
    "plt.show()"
   ]
  },
  {
   "cell_type": "code",
   "execution_count": 31,
   "metadata": {},
   "outputs": [
    {
     "name": "stdout",
     "output_type": "stream",
     "text": [
      "[[367.30929302]]\n"
     ]
    }
   ],
   "source": [
    "print (linear_reg.predict(100))"
   ]
  },
  {
   "cell_type": "code",
   "execution_count": 12,
   "metadata": {},
   "outputs": [],
   "source": [
    "def save_model(m, file_name):\n",
    "    # Save the model\n",
    "    filename = file_name + '.sav'\n",
    "    pickle.dump(m, open(filename, 'wb'))"
   ]
  },
  {
   "cell_type": "code",
   "execution_count": 13,
   "metadata": {},
   "outputs": [],
   "source": [
    "def load_model(file_name): \n",
    "    # load the model\n",
    "    filename = file_name + '.sav'\n",
    "    loaded_model = pickle.load(open(filename, 'rb'))\n",
    "    \n",
    "    return loaded_model"
   ]
  },
  {
   "cell_type": "code",
   "execution_count": 14,
   "metadata": {},
   "outputs": [],
   "source": [
    "# Save the model\n",
    "save_model(linear_reg, 'models/model_lr_ncloc_complexity')"
   ]
  },
  {
   "cell_type": "code",
   "execution_count": 15,
   "metadata": {},
   "outputs": [],
   "source": [
    "model = load_model('models/model_lr_ncloc_complexity')"
   ]
  },
  {
   "cell_type": "code",
   "execution_count": 21,
   "metadata": {},
   "outputs": [
    {
     "name": "stdout",
     "output_type": "stream",
     "text": [
      "[[1687.82259992]]\n"
     ]
    }
   ],
   "source": [
    "print (linear_reg.predict(10000))"
   ]
  },
  {
   "cell_type": "code",
   "execution_count": null,
   "metadata": {},
   "outputs": [],
   "source": []
  }
 ],
 "metadata": {
  "kernelspec": {
   "display_name": "Python 3",
   "language": "python",
   "name": "python3"
  },
  "language_info": {
   "codemirror_mode": {
    "name": "ipython",
    "version": 3
   },
   "file_extension": ".py",
   "mimetype": "text/x-python",
   "name": "python",
   "nbconvert_exporter": "python",
   "pygments_lexer": "ipython3",
   "version": "3.5.4"
  }
 },
 "nbformat": 4,
 "nbformat_minor": 2
}
