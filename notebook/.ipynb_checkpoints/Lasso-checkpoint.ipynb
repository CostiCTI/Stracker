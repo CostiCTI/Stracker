{
 "cells": [
  {
   "cell_type": "code",
   "execution_count": 2,
   "metadata": {},
   "outputs": [],
   "source": [
    "import sklearn.cross_validation as cv\n",
    "from sklearn import linear_model\n",
    "\n",
    "import numpy as np\n",
    "import pandas as pd\n",
    "import matplotlib.pyplot as plt\n",
    "import seaborn as sns\n",
    "import json\n",
    "\n",
    "from sklearn import datasets\n",
    "from sklearn.ensemble import RandomForestRegressor\n",
    "from sklearn.metrics import r2_score\n",
    "from scipy.stats import spearmanr, pearsonr\n",
    "from sklearn.decomposition import PCA\n",
    "from sklearn.preprocessing import StandardScaler\n",
    "from sklearn.metrics import accuracy_score\n",
    "#from sklearn.model_selection import train_test_split\n",
    "from sklearn.cross_validation import train_test_split"
   ]
  },
  {
   "cell_type": "code",
   "execution_count": 3,
   "metadata": {},
   "outputs": [
    {
     "name": "stdout",
     "output_type": "stream",
     "text": [
      "21\n"
     ]
    }
   ],
   "source": [
    "with open(\"p1.json\") as file:\n",
    "    data = json.load(file)\n",
    "    \n",
    "print (len(data))"
   ]
  },
  {
   "cell_type": "code",
   "execution_count": 25,
   "metadata": {},
   "outputs": [
    {
     "name": "stdout",
     "output_type": "stream",
     "text": [
      "[195.0, 108265.0, 9838.0, 26166.0, 5867.0, 684.0, 6737.0, 12984.0, 916.0, 10338.0, 41315.0, 2338.0, 9112.0, 619.0, 739.0, 9032.0, 89384.0, 1058.0, 64546.0, 430.0, 2969.0]\n",
      "[16.0, 2697.0, 759.0, 2917.0, 609.0, 36.0, 312.0, 962.0, 116.0, 626.0, 2472.0, 212.0, 1298.0, 46.0, 41.0, 489.0, 5947.0, 100.0, 5540.0, 21.0, 261.0]\n"
     ]
    }
   ],
   "source": [
    "minv = [float(x['ncloc']) for x in data]\n",
    "print (minv)\n",
    "majv = [float(x['functions']) for x in data]\n",
    "print (majv)\n",
    "\n",
    "minv.append(10)\n",
    "majv.append(1)\n",
    "minv.append(12)\n",
    "majv.append(1)\n",
    "minv.append(25)\n",
    "majv.append(2)"
   ]
  },
  {
   "cell_type": "code",
   "execution_count": 26,
   "metadata": {},
   "outputs": [
    {
     "name": "stdout",
     "output_type": "stream",
     "text": [
      "[10, 12, 25, 195.0, 430.0, 619.0, 684.0, 739.0, 916.0, 1058.0, 2338.0, 2969.0, 5867.0, 6737.0, 9032.0, 9112.0, 9838.0, 10338.0, 12984.0, 26166.0, 41315.0, 64546.0, 89384.0]\n",
      "[1, 1, 2, 16.0, 21.0, 46.0, 36.0, 41.0, 116.0, 100.0, 212.0, 261.0, 609.0, 312.0, 489.0, 1298.0, 759.0, 626.0, 962.0, 2917.0, 2472.0, 5540.0, 5947.0]\n"
     ]
    }
   ],
   "source": [
    "for i in range(len(minv) - 1):\n",
    "    for j in range(i+1, len(minv)):\n",
    "        if minv[i] > minv[j]:\n",
    "            minv[i], minv[j] = minv[j], minv[i]\n",
    "            majv[i], majv[j] = majv[j], majv[i]\n",
    "            \n",
    "del minv[len(minv) - 1]\n",
    "del majv[len(majv) - 1]\n",
    "\n",
    "print (minv)\n",
    "print (majv)"
   ]
  },
  {
   "cell_type": "code",
   "execution_count": 27,
   "metadata": {},
   "outputs": [
    {
     "data": {
      "image/png": "[encoded data removed]",
      "text/plain": [
       "<matplotlib.figure.Figure at 0x240066cda58>"
      ]
     },
     "metadata": {},
     "output_type": "display_data"
    }
   ],
   "source": [
    "x = np.array(minv)\n",
    "y = np.array(majv)\n",
    "\n",
    "plt.scatter(x, y)\n",
    "plt.xlabel(\"min\")\n",
    "plt.ylabel(\"maj\")\n",
    "plt.show()"
   ]
  },
  {
   "cell_type": "code",
   "execution_count": null,
   "metadata": {},
   "outputs": [],
   "source": [
    "X_train, X_test, y_train, y_test = train_test_split(x, y, test_size=0.33, random_state=1)\n",
    "X_train = np.atleast_2d(X_train).T\n",
    "y_train = np.atleast_2d(y_train).T\n",
    "X_test = np.atleast_2d(X_test).T\n",
    "y_testt = np.atleast_2d(y_test).T"
   ]
  },
  {
   "cell_type": "code",
   "execution_count": null,
   "metadata": {},
   "outputs": [],
   "source": [
    "from sklearn.svm import SVR\n",
    "\n",
    "lasso = make_pipeline(PolynomialFeatures(degree), Ridge())\n",
    "lasso.fit(X_train, y_train)"
   ]
  },
  {
   "cell_type": "code",
   "execution_count": null,
   "metadata": {},
   "outputs": [],
   "source": [
    "lasso_score = lasso.score(X_train, y_train)\n",
    "print (lasso_score)"
   ]
  },
  {
   "cell_type": "code",
   "execution_count": 51,
   "metadata": {},
   "outputs": [],
   "source": [
    "predict = lasso.predict(X_test)"
   ]
  },
  {
   "cell_type": "code",
   "execution_count": 52,
   "metadata": {},
   "outputs": [
    {
     "name": "stdout",
     "output_type": "stream",
     "text": [
      "r2_score: -0.5697961326960352\n"
     ]
    }
   ],
   "source": [
    "from sklearn.metrics import r2_score\n",
    "\n",
    "print ('r2_score:', r2_score(y_test, predict))"
   ]
  },
  {
   "cell_type": "code",
   "execution_count": 53,
   "metadata": {},
   "outputs": [
    {
     "data": {
      "image/png": "[encoded data removed]",
      "text/plain": [
       "<matplotlib.figure.Figure at 0x2400774d320>"
      ]
     },
     "metadata": {},
     "output_type": "display_data"
    }
   ],
   "source": [
    "plt.scatter(X_test, y_test,  color='black')\n",
    "plt.plot(X_test, predict, color='blue', linewidth=3)\n",
    "\n",
    "\n",
    "plt.show()"
   ]
  },
  {
   "cell_type": "code",
   "execution_count": 54,
   "metadata": {},
   "outputs": [
    {
     "name": "stdout",
     "output_type": "stream",
     "text": [
      "[114.98168436]\n"
     ]
    }
   ],
   "source": [
    "print (lasso.predict(10))"
   ]
  },
  {
   "cell_type": "code",
   "execution_count": null,
   "metadata": {},
   "outputs": [],
   "source": []
  }
 ],
 "metadata": {
  "kernelspec": {
   "display_name": "Python 3",
   "language": "python",
   "name": "python3"
  },
  "language_info": {
   "codemirror_mode": {
    "name": "ipython",
    "version": 3
   },
   "file_extension": ".py",
   "mimetype": "text/x-python",
   "name": "python",
   "nbconvert_exporter": "python",
   "pygments_lexer": "ipython3",
   "version": "3.5.4"
  }
 },
 "nbformat": 4,
 "nbformat_minor": 2
}
